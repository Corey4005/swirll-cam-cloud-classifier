{
 "cells": [
  {
   "cell_type": "code",
   "execution_count": 144,
   "id": "16d8fd88",
   "metadata": {},
   "outputs": [],
   "source": [
    "#imports \n",
    "import cv2\n",
    "import os\n",
    "import random\n",
    "import shutil"
   ]
  },
  {
   "cell_type": "code",
   "execution_count": 272,
   "id": "027d4dd2",
   "metadata": {},
   "outputs": [],
   "source": [
    "#labels for each of the classes\n",
    "labels = ['Cumulus', 'Non-Cumulus']"
   ]
  },
  {
   "cell_type": "code",
   "execution_count": 273,
   "id": "e6d74d09",
   "metadata": {
    "scrolled": true
   },
   "outputs": [
    {
     "name": "stdout",
     "output_type": "stream",
     "text": [
      "['Cumulus', 'Non-Cumulus']\n"
     ]
    }
   ],
   "source": [
    "print(labels)"
   ]
  },
  {
   "cell_type": "code",
   "execution_count": 6,
   "id": "c78db25f",
   "metadata": {},
   "outputs": [],
   "source": [
    "#make a directory for each of the labels\n",
    "swirlldata = '/Users/coreywalker/Desktop/imglabeler/swirlldata'"
   ]
  },
  {
   "cell_type": "code",
   "execution_count": 7,
   "id": "c9f7737c",
   "metadata": {},
   "outputs": [],
   "source": [
    "image_path = os.path.join(os.getcwd(), swirlldata)"
   ]
  },
  {
   "cell_type": "code",
   "execution_count": 9,
   "id": "32150e6d",
   "metadata": {},
   "outputs": [],
   "source": [
    "#make a filepath for each of the labels that you can save labeled images to. \n",
    "for label in labels:\n",
    "    path = os.path.join(image_path, label)\n",
    "    if not os.path.exists(path):\n",
    "        !mkdir {path}"
   ]
  },
  {
   "cell_type": "code",
   "execution_count": 24,
   "id": "51af2903",
   "metadata": {},
   "outputs": [],
   "source": [
    "#open the labelimage GUI and begin saving images to correct filepath\n",
    "gui_path = '/Users/coreywalker/Desktop/imglabeler/labelImg'\n",
    "labelimg = os.path.join(os.getcwd(), gui_path)"
   ]
  },
  {
   "cell_type": "code",
   "execution_count": 25,
   "id": "7a460647",
   "metadata": {},
   "outputs": [
    {
     "data": {
      "text/plain": [
       "'/Users/coreywalker/Desktop/imglabeler/labelImg'"
      ]
     },
     "execution_count": 25,
     "metadata": {},
     "output_type": "execute_result"
    }
   ],
   "source": [
    "#filepath to the gui application\n",
    "labelimg"
   ]
  },
  {
   "cell_type": "code",
   "execution_count": 26,
   "id": "0bde6bfa",
   "metadata": {},
   "outputs": [
    {
     "name": "stdout",
     "output_type": "stream",
     "text": [
      "/Users/coreywalker/Desktop/imglabeler/labelImg/labelImg.py:210: DeprecationWarning: an integer is required (got type DockWidgetFeatures).  Implicit conversion to integers using __int__ is deprecated, and may be removed in a future version of Python.\n",
      "  self.dock.setFeatures(self.dock.features() ^ self.dock_features)\n",
      "Image:/Users/coreywalker/Desktop/imglabeler/swirlldata/swirlldata2020_0104_121600.jpg -> Annotation:/Users/coreywalker/Desktop/imglabeler/swirlldata/Cumulus/swirlldata2020_0104_121600.xml\n",
      "Image:/Users/coreywalker/Desktop/imglabeler/swirlldata/swirlldata2020_0606_151300.jpg -> Annotation:/Users/coreywalker/Desktop/imglabeler/swirlldata/Cumulus/swirlldata2020_0606_151300.xml\n",
      "Image:/Users/coreywalker/Desktop/imglabeler/swirlldata/swirlldata2020_0606_171400.jpg -> Annotation:/Users/coreywalker/Desktop/imglabeler/swirlldata/Cumulus/swirlldata2020_0606_171400.xml\n",
      "Image:/Users/coreywalker/Desktop/imglabeler/swirlldata/swirlldata2020_0606_173900.jpg -> Annotation:/Users/coreywalker/Desktop/imglabeler/swirlldata/Cumulus/swirlldata2020_0606_173900.xml\n",
      "Image:/Users/coreywalker/Desktop/imglabeler/swirlldata/swirlldata2020_0607_093700.jpg -> Annotation:/Users/coreywalker/Desktop/imglabeler/swirlldata/Cumulus/swirlldata2020_0607_093700.xml\n",
      "Image:/Users/coreywalker/Desktop/imglabeler/swirlldata/swirlldata2020_0607_163800.jpg -> Annotation:/Users/coreywalker/Desktop/imglabeler/swirlldata/Cumulus/swirlldata2020_0607_163800.xml\n",
      "Image:/Users/coreywalker/Desktop/imglabeler/swirlldata/swirlldata2020_0106_130600.jpg -> Annotation:/Users/coreywalker/Desktop/imglabeler/swirlldata/Non-Cumulus/swirlldata2020_0106_130600.xml\n",
      "Image:/Users/coreywalker/Desktop/imglabeler/swirlldata/swirlldata2020_0106_134700.jpg -> Annotation:/Users/coreywalker/Desktop/imglabeler/swirlldata/Non-Cumulus/swirlldata2020_0106_134700.xml\n",
      "Image:/Users/coreywalker/Desktop/imglabeler/swirlldata/swirlldata2020_0112_144800.jpg -> Annotation:/Users/coreywalker/Desktop/imglabeler/swirlldata/Non-Cumulus/swirlldata2020_0112_144800.xml\n",
      "Cancel creation.\n",
      "Image:/Users/coreywalker/Desktop/imglabeler/swirlldata/swirlldata2020_0116_133000.jpg -> Annotation:/Users/coreywalker/Desktop/imglabeler/swirlldata/Non-Cumulus/swirlldata2020_0116_133000.xml\n",
      "Image:/Users/coreywalker/Desktop/imglabeler/swirlldata/swirlldata2020_0117_130100.jpg -> Annotation:/Users/coreywalker/Desktop/imglabeler/swirlldata/Non-Cumulus/swirlldata2020_0117_130100.xml\n",
      "Image:/Users/coreywalker/Desktop/imglabeler/swirlldata/swirlldata2020_0117_130100.jpg -> Annotation:/Users/coreywalker/Desktop/imglabeler/swirlldata/Non-Cumulus/swirlldata2020_0117_130100.xml\n",
      "Image:/Users/coreywalker/Desktop/imglabeler/swirlldata/swirlldata2020_0117_130900.jpg -> Annotation:/Users/coreywalker/Desktop/imglabeler/swirlldata/Non-Cumulus/swirlldata2020_0117_130900.xml\n",
      "Image:/Users/coreywalker/Desktop/imglabeler/swirlldata/swirlldata2020_0128_150400.jpg -> Annotation:/Users/coreywalker/Desktop/imglabeler/swirlldata/Non-Cumulus/swirlldata2020_0128_150400.xml\n",
      "Image:/Users/coreywalker/Desktop/imglabeler/swirlldata/swirlldata2020_0203_075300.jpg -> Annotation:/Users/coreywalker/Desktop/imglabeler/swirlldata/Non-Cumulus/swirlldata2020_0203_075300.xml\n",
      "Image:/Users/coreywalker/Desktop/imglabeler/swirlldata/swirlldata2020_0127_131400.jpg -> Annotation:/Users/coreywalker/Desktop/imglabeler/swirlldata/Cumulus/swirlldata2020_0127_131400.xml\n",
      "Image:/Users/coreywalker/Desktop/imglabeler/swirlldata/swirlldata2020_0127_122300.jpg -> Annotation:/Users/coreywalker/Desktop/imglabeler/swirlldata/Cumulus/swirlldata2020_0127_122300.xml\n",
      "^C\n"
     ]
    }
   ],
   "source": [
    "#cd into the labelimg directory and start the gui and label images\n",
    "!cd {labelimg} && python labelImg.py"
   ]
  },
  {
   "cell_type": "code",
   "execution_count": 38,
   "id": "dfd54a1d",
   "metadata": {},
   "outputs": [],
   "source": [
    "#create custom filepaths to each of your labeled .xml files. \n",
    "cumulus = os.path.join(swirlldata, 'Cumulus')\n",
    "Non_cumulus = os.path.join(swirlldata, 'Non-Cumulus')"
   ]
  },
  {
   "cell_type": "code",
   "execution_count": 61,
   "id": "6d2a6f10",
   "metadata": {},
   "outputs": [],
   "source": [
    "#we only have .xml files in the class labeled areas, so create a list containing \n",
    "#corresponding .jpg files. \n",
    "cumulus_list = []\n",
    "for root, directory, files in os.walk(cumulus):\n",
    "    for f in files:\n",
    "        cumulus_basepath = os.path.join(root, f)\n",
    "        jpg_filename = f[-30:-4] + '.jpg'\n",
    "        jpg_basepath = os.path.join(swirlldata, jpg_filename)\n",
    "        cumulus_list.append((jpg_basepath, cumulus_basepath))"
   ]
  },
  {
   "cell_type": "code",
   "execution_count": 62,
   "id": "7c39b42e",
   "metadata": {},
   "outputs": [
    {
     "data": {
      "text/plain": [
       "[('/Users/coreywalker/Desktop/imglabeler/swirlldata/swirlldata2020_0104_121600.jpg',\n",
       "  '/Users/coreywalker/Desktop/imglabeler/swirlldata/Cumulus/swirlldata2020_0104_121600.xml'),\n",
       " ('/Users/coreywalker/Desktop/imglabeler/swirlldata/swirlldata2020_0127_131400.jpg',\n",
       "  '/Users/coreywalker/Desktop/imglabeler/swirlldata/Cumulus/swirlldata2020_0127_131400.xml'),\n",
       " ('/Users/coreywalker/Desktop/imglabeler/swirlldata/swirlldata2020_0606_173900.jpg',\n",
       "  '/Users/coreywalker/Desktop/imglabeler/swirlldata/Cumulus/swirlldata2020_0606_173900.xml'),\n",
       " ('/Users/coreywalker/Desktop/imglabeler/swirlldata/swirlldata2020_0127_122300.jpg',\n",
       "  '/Users/coreywalker/Desktop/imglabeler/swirlldata/Cumulus/swirlldata2020_0127_122300.xml'),\n",
       " ('/Users/coreywalker/Desktop/imglabeler/swirlldata/swirlldata2020_0607_163800.jpg',\n",
       "  '/Users/coreywalker/Desktop/imglabeler/swirlldata/Cumulus/swirlldata2020_0607_163800.xml'),\n",
       " ('/Users/coreywalker/Desktop/imglabeler/swirlldata/swirlldata2020_0607_093700.jpg',\n",
       "  '/Users/coreywalker/Desktop/imglabeler/swirlldata/Cumulus/swirlldata2020_0607_093700.xml'),\n",
       " ('/Users/coreywalker/Desktop/imglabeler/swirlldata/swirlldata2020_0606_171400.jpg',\n",
       "  '/Users/coreywalker/Desktop/imglabeler/swirlldata/Cumulus/swirlldata2020_0606_171400.xml'),\n",
       " ('/Users/coreywalker/Desktop/imglabeler/swirlldata/swirlldata2020_0606_151300.jpg',\n",
       "  '/Users/coreywalker/Desktop/imglabeler/swirlldata/Cumulus/swirlldata2020_0606_151300.xml')]"
      ]
     },
     "execution_count": 62,
     "metadata": {},
     "output_type": "execute_result"
    }
   ],
   "source": [
    "cumulus_list"
   ]
  },
  {
   "cell_type": "code",
   "execution_count": 64,
   "id": "cedf5816",
   "metadata": {},
   "outputs": [],
   "source": [
    "Non_cumulus_list = []\n",
    "for root, directory, files in os.walk(Non_cumulus):\n",
    "    for f in files:\n",
    "        Non_cumulus_basepath = os.path.join(root, f)\n",
    "        jpg_filename = f[-30:-4] + '.jpg'\n",
    "        jpg_basepath = os.path.join(swirlldata, jpg_filename)\n",
    "        Non_cumulus_list.append((jpg_basepath, Non_cumulus_basepath))"
   ]
  },
  {
   "cell_type": "code",
   "execution_count": 65,
   "id": "0cddcbb4",
   "metadata": {},
   "outputs": [
    {
     "data": {
      "text/plain": [
       "[('/Users/coreywalker/Desktop/imglabeler/swirlldata/swirlldata2020_0117_130900.jpg',\n",
       "  '/Users/coreywalker/Desktop/imglabeler/swirlldata/Non-Cumulus/swirlldata2020_0117_130900.xml'),\n",
       " ('/Users/coreywalker/Desktop/imglabeler/swirlldata/swirlldata2020_0203_075300.jpg',\n",
       "  '/Users/coreywalker/Desktop/imglabeler/swirlldata/Non-Cumulus/swirlldata2020_0203_075300.xml'),\n",
       " ('/Users/coreywalker/Desktop/imglabeler/swirlldata/swirlldata2020_0128_150400.jpg',\n",
       "  '/Users/coreywalker/Desktop/imglabeler/swirlldata/Non-Cumulus/swirlldata2020_0128_150400.xml'),\n",
       " ('/Users/coreywalker/Desktop/imglabeler/swirlldata/swirlldata2020_0116_133000.jpg',\n",
       "  '/Users/coreywalker/Desktop/imglabeler/swirlldata/Non-Cumulus/swirlldata2020_0116_133000.xml'),\n",
       " ('/Users/coreywalker/Desktop/imglabeler/swirlldata/swirlldata2020_0112_144800.jpg',\n",
       "  '/Users/coreywalker/Desktop/imglabeler/swirlldata/Non-Cumulus/swirlldata2020_0112_144800.xml'),\n",
       " ('/Users/coreywalker/Desktop/imglabeler/swirlldata/swirlldata2020_0106_134700.jpg',\n",
       "  '/Users/coreywalker/Desktop/imglabeler/swirlldata/Non-Cumulus/swirlldata2020_0106_134700.xml'),\n",
       " ('/Users/coreywalker/Desktop/imglabeler/swirlldata/swirlldata2020_0106_130600.jpg',\n",
       "  '/Users/coreywalker/Desktop/imglabeler/swirlldata/Non-Cumulus/swirlldata2020_0106_130600.xml'),\n",
       " ('/Users/coreywalker/Desktop/imglabeler/swirlldata/swirlldata2020_0117_130100.jpg',\n",
       "  '/Users/coreywalker/Desktop/imglabeler/swirlldata/Non-Cumulus/swirlldata2020_0117_130100.xml')]"
      ]
     },
     "execution_count": 65,
     "metadata": {},
     "output_type": "execute_result"
    }
   ],
   "source": [
    "Non_cumulus_list"
   ]
  },
  {
   "cell_type": "code",
   "execution_count": 278,
   "id": "c0009500",
   "metadata": {},
   "outputs": [],
   "source": [
    "#create the train test split function and create a training and testing directory\n",
    "def train_test_split(class_list, train_directory, test_directory, split=None):\n",
    "    '''\n",
    "    Parameters\n",
    "    ----------\n",
    "    class_list: list\n",
    "        \n",
    "        Input the filelist for a class label containing the list of .jpg files \n",
    "        that have a corresponding .xml file. \n",
    "        \n",
    "    train_directory: string\n",
    "        \n",
    "        Input the name of the training directory for data being split into. \n",
    "    \n",
    "    test_directory: string\n",
    "    \n",
    "        Input the name of the test directory for testing data to be split into. \n",
    "        \n",
    "    split: int\n",
    "    \n",
    "        Input a split percentage.\n",
    "        \n",
    "        ex: split=0.7 #for a split of 70% training and 30% testing. \n",
    "    \n",
    "    '''\n",
    "    print('Transfering files for your class_list object!')\n",
    "    files_len = len(class_list)\n",
    "    print(f'The length of your class list is: '.format(class_list), files_len)\n",
    "    train_len = round(files_len*split)\n",
    "    print('The length of your training list is: ', train_len)\n",
    "    test_len = files_len - train_len\n",
    "    print('The length of your testing list is: ', test_len)\n",
    "    \n",
    "    #base path + new_directory_locations\n",
    "    train = os.path.join(os.getcwd(), train_directory)\n",
    "    test = os.path.join(os.getcwd(), test_directory)\n",
    "    \n",
    "    #make the train and test directory if it does not exist. \n",
    "    if not os.path.exists(train):\n",
    "        !mkdir {train} \n",
    "        \n",
    "    if not os.path.exists(test):\n",
    "        !mkdir {test}\n",
    "        \n",
    "    #randomize the list of training / testing data\n",
    "    random.shuffle(class_list)\n",
    "    \n",
    "    #get all the .jpgs \n",
    "    jpgs = [f[0] for f in class_list]\n",
    "\n",
    "    #get corresponding xmls\n",
    "    xmls = [f[1] for f in class_list]\n",
    "  \n",
    "    \n",
    "    #get 70% for testing from shuffled list\n",
    "    training_jpgs = jpgs[0:train_len]\n",
    "    testing_jpgs = jpgs[-test_len:]\n",
    "    training_xmls = xmls[0:train_len]\n",
    "    testing_xmls = xmls[-test_len:]\n",
    "    \n",
    "    #send the list to the appropriate path\n",
    "    #jpgs\n",
    "        #train\n",
    "    for f in training_jpgs:\n",
    "        shutil.copy(f, train)\n",
    "        #test\n",
    "    for f in testing_jpgs:\n",
    "        shutil.copy(f, test)\n",
    "        \n",
    "    #xmls\n",
    "        #train\n",
    "    for f in training_xmls:\n",
    "        shutil.copy(f, train)\n",
    "        #test\n",
    "    for f in testing_xmls:\n",
    "        shutil.copy(f, test)\n",
    "    \n",
    "    print('Files Transfered: Check your training and testing sets now!')\n",
    "    "
   ]
  },
  {
   "cell_type": "code",
   "execution_count": 279,
   "id": "24083e7e",
   "metadata": {},
   "outputs": [
    {
     "name": "stdout",
     "output_type": "stream",
     "text": [
      "Transfering files for your class_list object!\n",
      "The length of your class list is:  8\n",
      "The length of your training list is:  6\n",
      "The length of your testing list is:  2\n",
      "Files Transfered: Check your training and testing sets now!\n"
     ]
    }
   ],
   "source": [
    "#split the cumulus class\n",
    "cumulus_train_test_split = train_test_split(cumulus_list, train_directory='train', test_directory='test', split=0.7)"
   ]
  },
  {
   "cell_type": "code",
   "execution_count": 280,
   "id": "03d3b00d",
   "metadata": {},
   "outputs": [
    {
     "name": "stdout",
     "output_type": "stream",
     "text": [
      "Transfering files for your class_list object!\n",
      "The length of your class list is:  8\n",
      "The length of your training list is:  6\n",
      "The length of your testing list is:  2\n",
      "Files Transfered: Check your training and testing sets now!\n"
     ]
    }
   ],
   "source": [
    "#split the noncumulus class\n",
    "Non_cumulus_train_test_split = train_test_split(Non_cumulus_list, train_directory='train', test_directory='test', split=0.7)"
   ]
  },
  {
   "cell_type": "code",
   "execution_count": null,
   "id": "e7bf0196",
   "metadata": {},
   "outputs": [],
   "source": []
  }
 ],
 "metadata": {
  "kernelspec": {
   "display_name": "Python 3 (ipykernel)",
   "language": "python",
   "name": "python3"
  },
  "language_info": {
   "codemirror_mode": {
    "name": "ipython",
    "version": 3
   },
   "file_extension": ".py",
   "mimetype": "text/x-python",
   "name": "python",
   "nbconvert_exporter": "python",
   "pygments_lexer": "ipython3",
   "version": "3.9.11"
  }
 },
 "nbformat": 4,
 "nbformat_minor": 5
}
